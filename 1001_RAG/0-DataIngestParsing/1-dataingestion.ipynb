{
 "cells": [
  {
   "cell_type": "code",
   "execution_count": 4,
   "id": "d810f38b-67ed-42a5-b9a6-904fd267351a",
   "metadata": {},
   "outputs": [],
   "source": [
    "### Introduction to Data ingestions"
   ]
  },
  {
   "cell_type": "code",
   "execution_count": 7,
   "id": "e3e1c99f-35c3-422d-8b81-b9822de0ae35",
   "metadata": {},
   "outputs": [],
   "source": [
    "import os\n",
    "from typing import List, Dict, Any\n",
    "import pandas as pd"
   ]
  },
  {
   "cell_type": "code",
   "execution_count": 8,
   "id": "cd18cb8b-cd60-4bf2-b0e8-6917682a39b0",
   "metadata": {},
   "outputs": [],
   "source": [
    "from langchain_core.documents import Document"
   ]
  },
  {
   "cell_type": "code",
   "execution_count": 9,
   "id": "7dd531eb-3a5b-4aea-bd8b-e7c747dc2772",
   "metadata": {},
   "outputs": [
    {
     "name": "stdout",
     "output_type": "stream",
     "text": [
      "Setup completed!\n"
     ]
    }
   ],
   "source": [
    "from langchain.text_splitter import (\n",
    "    RecursiveCharacterTextSplitter,\n",
    "    CharacterTextSplitter,\n",
    "    TokenTextSplitter\n",
    ")\n",
    "print(\"Setup completed!\")"
   ]
  },
  {
   "cell_type": "code",
   "execution_count": 10,
   "id": "500f00f6-388e-4119-b768-c6d6649871e0",
   "metadata": {},
   "outputs": [],
   "source": [
    "### Understand Document Structure in LangChain"
   ]
  },
  {
   "cell_type": "code",
   "execution_count": 13,
   "id": "21057ae0-008b-4fbf-9e3d-773596e48a2d",
   "metadata": {},
   "outputs": [
    {
     "name": "stdout",
     "output_type": "stream",
     "text": [
      "Document Structure\n",
      "Content: This is a main text content that will be embedded and searched.\n",
      "Metadata : {'source': 'example.txt', 'page': 1, 'author': 'RKD', 'date_created': '2025', 'custom_field': 'any_value'}\n"
     ]
    }
   ],
   "source": [
    "doc = Document(\n",
    "    page_content = \"This is a main text content that will be embedded and searched.\",\n",
    "    metadata={\n",
    "        \"source\":\"example.txt\",\n",
    "        \"page\":1,\n",
    "        \"author\":\"RKD\",\n",
    "        \"date_created\":\"2025\",\n",
    "        \"custom_field\":\"any_value\"\n",
    "    }\n",
    ")\n",
    "print(\"Document Structure\")\n",
    "print(f\"Content: {doc.page_content}\")\n",
    "print(f\"Metadata : {doc.metadata}\")"
   ]
  },
  {
   "cell_type": "code",
   "execution_count": 14,
   "id": "64fc9a2f-3550-4d5e-87ad-c80e7f5f4b88",
   "metadata": {},
   "outputs": [],
   "source": [
    "### Read Text file"
   ]
  },
  {
   "cell_type": "code",
   "execution_count": 16,
   "id": "1a26a721-1a1e-4fcf-8d3d-7412154f5b52",
   "metadata": {},
   "outputs": [],
   "source": [
    "import os\n",
    "os.makedirs(\"data/text_files\",exist_ok=True)"
   ]
  },
  {
   "cell_type": "code",
   "execution_count": 18,
   "id": "767910c2-9bf8-4b56-84da-e244a03bad83",
   "metadata": {},
   "outputs": [
    {
     "name": "stdout",
     "output_type": "stream",
     "text": [
      "Sample file has Create\n"
     ]
    }
   ],
   "source": [
    "sample_texts={\n",
    "    \"data/text_files/python_intro.txt\":\"\"\"What is Python?\n",
    "\n",
    "Python is a high-level, interpreted programming language that is widely used for many types of software development. It was created by Guido van Rossum and first released in 1991.\n",
    "\n",
    "Key Features of Python\n",
    "\n",
    "Easy to Learn and Read\n",
    "\n",
    "Python’s syntax is simple and resembles human language, which makes it beginner-friendly.\n",
    "\n",
    "Example:\n",
    "\n",
    "print(\"Hello, World!\")\n",
    "\n",
    "\n",
    "Interpreted Language\n",
    "\n",
    "Python code is executed line by line by the Python interpreter.\n",
    "\n",
    "No need to compile code before running it.\n",
    "\n",
    "Dynamically Typed\n",
    "\n",
    "You don’t need to declare variable types explicitly.\n",
    "\n",
    "x = 10      # integer\n",
    "x = \"Hello\" # string\n",
    "\n",
    "\n",
    "Versatile and Multi-Paradigm\n",
    "\n",
    "Supports object-oriented, procedural, and functional programming.\n",
    "\n",
    "Large Standard Library and Ecosystem\n",
    "\n",
    "Comes with built-in modules for tasks like file handling, networking, and math.\n",
    "\n",
    "Thousands of third-party packages (like numpy, pandas, langchain) extend its functionality.\n",
    "\n",
    "Cross-Platform\n",
    "\n",
    "Python works on Windows, macOS, Linux, and even mobile platforms.\n",
    "\n",
    "Where Python is Used\n",
    "\n",
    "Web Development – frameworks like Django, Flask\n",
    "\n",
    "Data Science & Machine Learning – pandas, scikit-learn, tensorflow\n",
    "\n",
    "Automation / Scripting – automate repetitive tasks\n",
    "\n",
    "Artificial Intelligence & NLP – langchain, OpenAI, spaCy\n",
    "\n",
    "Game Development – pygame\n",
    "\n",
    "Networking & Cybersecurity – writing scripts for network tools\n",
    "\n",
    "Why Python is Popular\n",
    "\n",
    "Easy to learn for beginners.\n",
    "\n",
    "Strong community support.\n",
    "\n",
    "Flexible and powerful for professionals.\n",
    "\n",
    "Integrates well with other languages and tools.\n",
    "\n",
    "In short, Python is a general-purpose programming language that is easy to read, highly versatile, and widely used across industries.\"\"\"\n",
    "}\n",
    "\n",
    "for filepath,content in sample_texts.items():\n",
    "    with open(filepath,'w',encoding=\"utf-8\") as f:\n",
    "        f.write(content)\n",
    "\n",
    "print(\"Sample file has Create\")"
   ]
  },
  {
   "cell_type": "code",
   "execution_count": 20,
   "id": "6ba45e7b-4126-4788-89a6-dac957ba8f6e",
   "metadata": {},
   "outputs": [],
   "source": [
    "### Test Loader - Read Single file"
   ]
  },
  {
   "cell_type": "code",
   "execution_count": 21,
   "id": "737c2288-cee9-42e3-9f8b-99b5d23eef5f",
   "metadata": {},
   "outputs": [
    {
     "data": {
      "text/plain": [
       "<langchain_community.document_loaders.text.TextLoader at 0x10f589550>"
      ]
     },
     "execution_count": 21,
     "metadata": {},
     "output_type": "execute_result"
    }
   ],
   "source": [
    "from langchain.document_loaders import TextLoader\n",
    "from langchain_community.document_loaders import TextLoader\n",
    "\n",
    "loader = TextLoader(\"data/text_files/python_intro.txt\",encoding=\"utf-8\")\n",
    "loader"
   ]
  },
  {
   "cell_type": "code",
   "execution_count": 22,
   "id": "ff4b0ac9-8cb7-49f9-b067-486317eb0340",
   "metadata": {},
   "outputs": [
    {
     "name": "stdout",
     "output_type": "stream",
     "text": [
      "<class 'list'>\n",
      "[Document(metadata={'source': 'data/text_files/python_intro.txt'}, page_content='What is Python?\\n\\nPython is a high-level, interpreted programming language that is widely used for many types of software development. It was created by Guido van Rossum and first released in 1991.\\n\\nKey Features of Python\\n\\nEasy to Learn and Read\\n\\nPython’s syntax is simple and resembles human language, which makes it beginner-friendly.\\n\\nExample:\\n\\nprint(\"Hello, World!\")\\n\\n\\nInterpreted Language\\n\\nPython code is executed line by line by the Python interpreter.\\n\\nNo need to compile code before running it.\\n\\nDynamically Typed\\n\\nYou don’t need to declare variable types explicitly.\\n\\nx = 10      # integer\\nx = \"Hello\" # string\\n\\n\\nVersatile and Multi-Paradigm\\n\\nSupports object-oriented, procedural, and functional programming.\\n\\nLarge Standard Library and Ecosystem\\n\\nComes with built-in modules for tasks like file handling, networking, and math.\\n\\nThousands of third-party packages (like numpy, pandas, langchain) extend its functionality.\\n\\nCross-Platform\\n\\nPython works on Windows, macOS, Linux, and even mobile platforms.\\n\\nWhere Python is Used\\n\\nWeb Development – frameworks like Django, Flask\\n\\nData Science & Machine Learning – pandas, scikit-learn, tensorflow\\n\\nAutomation / Scripting – automate repetitive tasks\\n\\nArtificial Intelligence & NLP – langchain, OpenAI, spaCy\\n\\nGame Development – pygame\\n\\nNetworking & Cybersecurity – writing scripts for network tools\\n\\nWhy Python is Popular\\n\\nEasy to learn for beginners.\\n\\nStrong community support.\\n\\nFlexible and powerful for professionals.\\n\\nIntegrates well with other languages and tools.\\n\\nIn short, Python is a general-purpose programming language that is easy to read, highly versatile, and widely used across industries.')]\n"
     ]
    }
   ],
   "source": [
    "documents = loader.load()\n",
    "print(type(documents))\n",
    "print(documents)"
   ]
  },
  {
   "cell_type": "code",
   "execution_count": 24,
   "id": "21dd38dc-f315-4275-9597-9857211881ee",
   "metadata": {},
   "outputs": [
    {
     "name": "stderr",
     "output_type": "stream",
     "text": [
      "100%|████████████████████████████████████████████████████████████████████████████████████████████████████████████████████████████████████████████████| 1/1 [00:00<00:00, 356.51it/s]"
     ]
    },
    {
     "name": "stdout",
     "output_type": "stream",
     "text": [
      "Loaded 1 documents\n",
      "0 page_content='What is Python?\n",
      "\n",
      "Python is a high-level, interpreted programming language that is widely used for many types of software development. It was created by Guido van Rossum and first released in 1991.\n",
      "\n",
      "Key Features of Python\n",
      "\n",
      "Easy to Learn and Read\n",
      "\n",
      "Python’s syntax is simple and resembles human language, which makes it beginner-friendly.\n",
      "\n",
      "Example:\n",
      "\n",
      "print(\"Hello, World!\")\n",
      "\n",
      "\n",
      "Interpreted Language\n",
      "\n",
      "Python code is executed line by line by the Python interpreter.\n",
      "\n",
      "No need to compile code before running it.\n",
      "\n",
      "Dynamically Typed\n",
      "\n",
      "You don’t need to declare variable types explicitly.\n",
      "\n",
      "x = 10      # integer\n",
      "x = \"Hello\" # string\n",
      "\n",
      "\n",
      "Versatile and Multi-Paradigm\n",
      "\n",
      "Supports object-oriented, procedural, and functional programming.\n",
      "\n",
      "Large Standard Library and Ecosystem\n",
      "\n",
      "Comes with built-in modules for tasks like file handling, networking, and math.\n",
      "\n",
      "Thousands of third-party packages (like numpy, pandas, langchain) extend its functionality.\n",
      "\n",
      "Cross-Platform\n",
      "\n",
      "Python works on Windows, macOS, Linux, and even mobile platforms.\n",
      "\n",
      "Where Python is Used\n",
      "\n",
      "Web Development – frameworks like Django, Flask\n",
      "\n",
      "Data Science & Machine Learning – pandas, scikit-learn, tensorflow\n",
      "\n",
      "Automation / Scripting – automate repetitive tasks\n",
      "\n",
      "Artificial Intelligence & NLP – langchain, OpenAI, spaCy\n",
      "\n",
      "Game Development – pygame\n",
      "\n",
      "Networking & Cybersecurity – writing scripts for network tools\n",
      "\n",
      "Why Python is Popular\n",
      "\n",
      "Easy to learn for beginners.\n",
      "\n",
      "Strong community support.\n",
      "\n",
      "Flexible and powerful for professionals.\n",
      "\n",
      "Integrates well with other languages and tools.\n",
      "\n",
      "In short, Python is a general-purpose programming language that is easy to read, highly versatile, and widely used across industries.' metadata={'source': 'data/text_files/python_intro.txt'}\n"
     ]
    },
    {
     "name": "stderr",
     "output_type": "stream",
     "text": [
      "\n"
     ]
    }
   ],
   "source": [
    "### Directory Loader\n",
    "from langchain_community.document_loaders import DirectoryLoader\n",
    "dir_loader = DirectoryLoader(\n",
    "     \"data/text_files\",\n",
    "     glob=\"**/*.txt\",\n",
    "     loader_cls = TextLoader,\n",
    "     loader_kwargs={'encoding':'utf-8'},\n",
    "     show_progress=True\n",
    ")\n",
    "\n",
    "documents = dir_loader.load()\n",
    "print(f\"Loaded {len(documents)} documents\")\n",
    "for i,doc in enumerate(documents):\n",
    "    print(i,doc)"
   ]
  },
  {
   "cell_type": "code",
   "execution_count": null,
   "id": "1843e9cb-f2d8-41ec-ba57-0f955bc27381",
   "metadata": {},
   "outputs": [],
   "source": []
  }
 ],
 "metadata": {
  "kernelspec": {
   "display_name": "Python (uv)",
   "language": "python",
   "name": "uv-env"
  },
  "language_info": {
   "codemirror_mode": {
    "name": "ipython",
    "version": 3
   },
   "file_extension": ".py",
   "mimetype": "text/x-python",
   "name": "python",
   "nbconvert_exporter": "python",
   "pygments_lexer": "ipython3",
   "version": "3.13.5"
  }
 },
 "nbformat": 4,
 "nbformat_minor": 5
}
